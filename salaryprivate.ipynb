{
 "cells": [
  {
   "cell_type": "code",
   "execution_count": 1,
   "id": "daa0fd4e",
   "metadata": {
    "_cell_guid": "b1076dfc-b9ad-4769-8c92-a6c4dae69d19",
    "_uuid": "8f2839f25d086af736a60e9eeb907d3b93b6e0e5",
    "execution": {
     "iopub.execute_input": "2025-04-28T20:49:24.099282Z",
     "iopub.status.busy": "2025-04-28T20:49:24.098966Z",
     "iopub.status.idle": "2025-04-28T20:49:25.867041Z",
     "shell.execute_reply": "2025-04-28T20:49:25.865874Z"
    },
    "papermill": {
     "duration": 1.776304,
     "end_time": "2025-04-28T20:49:25.868575",
     "exception": false,
     "start_time": "2025-04-28T20:49:24.092271",
     "status": "completed"
    },
    "tags": []
   },
   "outputs": [
    {
     "name": "stdout",
     "output_type": "stream",
     "text": [
      "/kaggle/input/salary2025software/2025-yazilim-sektoru-maaslari-onceki-yazilimci.xlsx\n"
     ]
    }
   ],
   "source": [
    "# This Python 3 environment comes with many helpful analytics libraries installed\n",
    "# It is defined by the kaggle/python Docker image: https://github.com/kaggle/docker-python\n",
    "# For example, here's several helpful packages to load\n",
    "\n",
    "import numpy as np # linear algebra\n",
    "import pandas as pd # data processing, CSV file I/O (e.g. pd.read_csv)\n",
    "\n",
    "# Input data files are available in the read-only \"../input/\" directory\n",
    "# For example, running this (by clicking run or pressing Shift+Enter) will list all files under the input directory\n",
    "\n",
    "import os\n",
    "for dirname, _, filenames in os.walk('/kaggle/input'):\n",
    "    for filename in filenames:\n",
    "        print(os.path.join(dirname, filename))\n",
    "\n",
    "# You can write up to 20GB to the current directory (/kaggle/working/) that gets preserved as output when you create a version using \"Save & Run All\" \n",
    "# You can also write temporary files to /kaggle/temp/, but they won't be saved outside of the current session"
   ]
  },
  {
   "cell_type": "code",
   "execution_count": 2,
   "id": "7997debb",
   "metadata": {
    "execution": {
     "iopub.execute_input": "2025-04-28T20:49:25.879792Z",
     "iopub.status.busy": "2025-04-28T20:49:25.879374Z",
     "iopub.status.idle": "2025-04-28T20:49:27.603240Z",
     "shell.execute_reply": "2025-04-28T20:49:27.602534Z"
    },
    "papermill": {
     "duration": 1.730999,
     "end_time": "2025-04-28T20:49:27.604821",
     "exception": false,
     "start_time": "2025-04-28T20:49:25.873822",
     "status": "completed"
    },
    "tags": []
   },
   "outputs": [],
   "source": [
    "import re\n",
    "import matplotlib.pyplot as plt \n",
    "import seaborn as sns"
   ]
  },
  {
   "cell_type": "code",
   "execution_count": 3,
   "id": "be058182",
   "metadata": {
    "execution": {
     "iopub.execute_input": "2025-04-28T20:49:27.615823Z",
     "iopub.status.busy": "2025-04-28T20:49:27.615360Z",
     "iopub.status.idle": "2025-04-28T20:49:30.686506Z",
     "shell.execute_reply": "2025-04-28T20:49:30.685562Z"
    },
    "papermill": {
     "duration": 3.078215,
     "end_time": "2025-04-28T20:49:30.687945",
     "exception": false,
     "start_time": "2025-04-28T20:49:27.609730",
     "status": "completed"
    },
    "tags": []
   },
   "outputs": [
    {
     "data": {
      "text/html": [
       "<div>\n",
       "<style scoped>\n",
       "    .dataframe tbody tr th:only-of-type {\n",
       "        vertical-align: middle;\n",
       "    }\n",
       "\n",
       "    .dataframe tbody tr th {\n",
       "        vertical-align: top;\n",
       "    }\n",
       "\n",
       "    .dataframe thead th {\n",
       "        text-align: right;\n",
       "    }\n",
       "</style>\n",
       "<table border=\"1\" class=\"dataframe\">\n",
       "  <thead>\n",
       "    <tr style=\"text-align: right;\">\n",
       "      <th></th>\n",
       "      <th>level</th>\n",
       "      <th>position</th>\n",
       "      <th>tech_stack</th>\n",
       "      <th>experience</th>\n",
       "      <th>gender</th>\n",
       "      <th>company</th>\n",
       "      <th>company_size</th>\n",
       "      <th>work_type</th>\n",
       "      <th>city</th>\n",
       "      <th>currency</th>\n",
       "      <th>salary</th>\n",
       "      <th>raise_period</th>\n",
       "    </tr>\n",
       "  </thead>\n",
       "  <tbody>\n",
       "    <tr>\n",
       "      <th>0</th>\n",
       "      <td>Senior</td>\n",
       "      <td>Back-end Developer</td>\n",
       "      <td>Php, NodeJS, Go</td>\n",
       "      <td>15 Yıl ve üzeri</td>\n",
       "      <td>Erkek</td>\n",
       "      <td>E-Ticaret</td>\n",
       "      <td>101 - 249 Kişi</td>\n",
       "      <td>Remote</td>\n",
       "      <td>* İngiltere</td>\n",
       "      <td>$ - Dolar</td>\n",
       "      <td>8.000 - 8.999</td>\n",
       "      <td>1</td>\n",
       "    </tr>\n",
       "    <tr>\n",
       "      <th>1</th>\n",
       "      <td>Senior</td>\n",
       "      <td>Full Stack Developer</td>\n",
       "      <td>Java, Angular</td>\n",
       "      <td>5 - 7 Yıl</td>\n",
       "      <td>Erkek</td>\n",
       "      <td>Sigorta</td>\n",
       "      <td>250+</td>\n",
       "      <td>Remote</td>\n",
       "      <td>Ankara</td>\n",
       "      <td>₺ - Türk Lirası</td>\n",
       "      <td>140.000 - 144.999</td>\n",
       "      <td>2</td>\n",
       "    </tr>\n",
       "    <tr>\n",
       "      <th>2</th>\n",
       "      <td>Senior</td>\n",
       "      <td>Mobile Application Developer (iOS)</td>\n",
       "      <td>Swift, Objective C</td>\n",
       "      <td>10 - 12 Yıl</td>\n",
       "      <td>Erkek</td>\n",
       "      <td>Banka</td>\n",
       "      <td>250+</td>\n",
       "      <td>Remote</td>\n",
       "      <td>Muğla</td>\n",
       "      <td>₺ - Türk Lirası</td>\n",
       "      <td>195.000 - 199.999</td>\n",
       "      <td>2</td>\n",
       "    </tr>\n",
       "    <tr>\n",
       "      <th>3</th>\n",
       "      <td>Senior</td>\n",
       "      <td>Mobile Application Developer (iOS)</td>\n",
       "      <td>Swift</td>\n",
       "      <td>7 - 10 Yıl</td>\n",
       "      <td>Erkek</td>\n",
       "      <td>E-Ticaret</td>\n",
       "      <td>250+</td>\n",
       "      <td>Ofis</td>\n",
       "      <td>İstanbul</td>\n",
       "      <td>₺ - Türk Lirası</td>\n",
       "      <td>220.000 - 229.999</td>\n",
       "      <td>1</td>\n",
       "    </tr>\n",
       "    <tr>\n",
       "      <th>4</th>\n",
       "      <td>Middle</td>\n",
       "      <td>Full Stack Developer</td>\n",
       "      <td>Php</td>\n",
       "      <td>1 - 3 Yıl</td>\n",
       "      <td>Erkek</td>\n",
       "      <td>E-Ticaret</td>\n",
       "      <td>1 - 5 Kişi</td>\n",
       "      <td>Ofis</td>\n",
       "      <td>İstanbul</td>\n",
       "      <td>₺ - Türk Lirası</td>\n",
       "      <td>35.000 - 35.999</td>\n",
       "      <td>1</td>\n",
       "    </tr>\n",
       "    <tr>\n",
       "      <th>...</th>\n",
       "      <td>...</td>\n",
       "      <td>...</td>\n",
       "      <td>...</td>\n",
       "      <td>...</td>\n",
       "      <td>...</td>\n",
       "      <td>...</td>\n",
       "      <td>...</td>\n",
       "      <td>...</td>\n",
       "      <td>...</td>\n",
       "      <td>...</td>\n",
       "      <td>...</td>\n",
       "      <td>...</td>\n",
       "    </tr>\n",
       "    <tr>\n",
       "      <th>9051</th>\n",
       "      <td>Senior</td>\n",
       "      <td>Team / Tech Lead</td>\n",
       "      <td>.Net, NodeJS, Delphi</td>\n",
       "      <td>15 Yıl ve üzeri</td>\n",
       "      <td>Erkek</td>\n",
       "      <td>ERP &amp; CRM</td>\n",
       "      <td>101 - 249 Kişi</td>\n",
       "      <td>Hibrit (Ofis + Remote)</td>\n",
       "      <td>İzmir</td>\n",
       "      <td>₺ - Türk Lirası</td>\n",
       "      <td>175.000 - 179.999</td>\n",
       "      <td>1</td>\n",
       "    </tr>\n",
       "    <tr>\n",
       "      <th>9052</th>\n",
       "      <td>Senior</td>\n",
       "      <td>Team / Tech Lead</td>\n",
       "      <td>.Net, Python, Angular</td>\n",
       "      <td>10 - 12 Yıl</td>\n",
       "      <td>Erkek</td>\n",
       "      <td>Yazılım Evi &amp; Danışmanlık</td>\n",
       "      <td>1 - 5 Kişi</td>\n",
       "      <td>Remote</td>\n",
       "      <td>* Birleşik Arap Emirlikleri</td>\n",
       "      <td>₺ - Türk Lirası</td>\n",
       "      <td>170.000 - 174.999</td>\n",
       "      <td>1</td>\n",
       "    </tr>\n",
       "    <tr>\n",
       "      <th>9053</th>\n",
       "      <td>Junior</td>\n",
       "      <td>Back-end Developer</td>\n",
       "      <td>Java</td>\n",
       "      <td>0 - 1 Yıl</td>\n",
       "      <td>Erkek</td>\n",
       "      <td>Telekomünikasyon</td>\n",
       "      <td>21 - 50 Kişi</td>\n",
       "      <td>Hibrit (Ofis + Remote)</td>\n",
       "      <td>* Azerbaycan</td>\n",
       "      <td>₺ - Türk Lirası</td>\n",
       "      <td>12.000 - 12.999</td>\n",
       "      <td>1</td>\n",
       "    </tr>\n",
       "    <tr>\n",
       "      <th>9054</th>\n",
       "      <td>Middle</td>\n",
       "      <td>Front-end Developer</td>\n",
       "      <td>JavaScript | Html | Css, Vue</td>\n",
       "      <td>1 - 3 Yıl</td>\n",
       "      <td>Erkek</td>\n",
       "      <td>E-Ticaret</td>\n",
       "      <td>101 - 249 Kişi</td>\n",
       "      <td>Hibrit (Ofis + Remote)</td>\n",
       "      <td>Kahramanmaraş</td>\n",
       "      <td>₺ - Türk Lirası</td>\n",
       "      <td>64.000 - 64.999</td>\n",
       "      <td>1</td>\n",
       "    </tr>\n",
       "    <tr>\n",
       "      <th>9055</th>\n",
       "      <td>Middle</td>\n",
       "      <td>Full Stack Developer</td>\n",
       "      <td>NodeJS, JavaScript | Html | Css, React, React ...</td>\n",
       "      <td>3 - 5 Yıl</td>\n",
       "      <td>Erkek</td>\n",
       "      <td>İK &amp; Danışmanlık</td>\n",
       "      <td>11 - 20 Kişi</td>\n",
       "      <td>Ofis</td>\n",
       "      <td>Konya</td>\n",
       "      <td>₺ - Türk Lirası</td>\n",
       "      <td>40.000 - 40.999</td>\n",
       "      <td>1</td>\n",
       "    </tr>\n",
       "  </tbody>\n",
       "</table>\n",
       "<p>9056 rows × 12 columns</p>\n",
       "</div>"
      ],
      "text/plain": [
       "       level                            position  \\\n",
       "0     Senior                  Back-end Developer   \n",
       "1     Senior                Full Stack Developer   \n",
       "2     Senior  Mobile Application Developer (iOS)   \n",
       "3     Senior  Mobile Application Developer (iOS)   \n",
       "4     Middle                Full Stack Developer   \n",
       "...      ...                                 ...   \n",
       "9051  Senior                    Team / Tech Lead   \n",
       "9052  Senior                    Team / Tech Lead   \n",
       "9053  Junior                  Back-end Developer   \n",
       "9054  Middle                 Front-end Developer   \n",
       "9055  Middle                Full Stack Developer   \n",
       "\n",
       "                                             tech_stack       experience  \\\n",
       "0                                       Php, NodeJS, Go  15 Yıl ve üzeri   \n",
       "1                                         Java, Angular        5 - 7 Yıl   \n",
       "2                                    Swift, Objective C      10 - 12 Yıl   \n",
       "3                                                 Swift       7 - 10 Yıl   \n",
       "4                                                   Php        1 - 3 Yıl   \n",
       "...                                                 ...              ...   \n",
       "9051                               .Net, NodeJS, Delphi  15 Yıl ve üzeri   \n",
       "9052                              .Net, Python, Angular      10 - 12 Yıl   \n",
       "9053                                               Java        0 - 1 Yıl   \n",
       "9054                       JavaScript | Html | Css, Vue        1 - 3 Yıl   \n",
       "9055  NodeJS, JavaScript | Html | Css, React, React ...        3 - 5 Yıl   \n",
       "\n",
       "     gender                    company    company_size  \\\n",
       "0     Erkek                  E-Ticaret  101 - 249 Kişi   \n",
       "1     Erkek                    Sigorta            250+   \n",
       "2     Erkek                      Banka            250+   \n",
       "3     Erkek                  E-Ticaret            250+   \n",
       "4     Erkek                  E-Ticaret      1 - 5 Kişi   \n",
       "...     ...                        ...             ...   \n",
       "9051  Erkek                  ERP & CRM  101 - 249 Kişi   \n",
       "9052  Erkek  Yazılım Evi & Danışmanlık      1 - 5 Kişi   \n",
       "9053  Erkek           Telekomünikasyon    21 - 50 Kişi   \n",
       "9054  Erkek                  E-Ticaret  101 - 249 Kişi   \n",
       "9055  Erkek           İK & Danışmanlık    11 - 20 Kişi   \n",
       "\n",
       "                   work_type                         city         currency  \\\n",
       "0                     Remote                  * İngiltere        $ - Dolar   \n",
       "1                     Remote                       Ankara  ₺ - Türk Lirası   \n",
       "2                     Remote                        Muğla  ₺ - Türk Lirası   \n",
       "3                       Ofis                     İstanbul  ₺ - Türk Lirası   \n",
       "4                       Ofis                     İstanbul  ₺ - Türk Lirası   \n",
       "...                      ...                          ...              ...   \n",
       "9051  Hibrit (Ofis + Remote)                        İzmir  ₺ - Türk Lirası   \n",
       "9052                  Remote  * Birleşik Arap Emirlikleri  ₺ - Türk Lirası   \n",
       "9053  Hibrit (Ofis + Remote)                 * Azerbaycan  ₺ - Türk Lirası   \n",
       "9054  Hibrit (Ofis + Remote)                Kahramanmaraş  ₺ - Türk Lirası   \n",
       "9055                    Ofis                        Konya  ₺ - Türk Lirası   \n",
       "\n",
       "                 salary  raise_period  \n",
       "0         8.000 - 8.999             1  \n",
       "1     140.000 - 144.999             2  \n",
       "2     195.000 - 199.999             2  \n",
       "3     220.000 - 229.999             1  \n",
       "4       35.000 - 35.999             1  \n",
       "...                 ...           ...  \n",
       "9051  175.000 - 179.999             1  \n",
       "9052  170.000 - 174.999             1  \n",
       "9053    12.000 - 12.999             1  \n",
       "9054    64.000 - 64.999             1  \n",
       "9055    40.000 - 40.999             1  \n",
       "\n",
       "[9056 rows x 12 columns]"
      ]
     },
     "execution_count": 3,
     "metadata": {},
     "output_type": "execute_result"
    }
   ],
   "source": [
    "df = pd.read_excel(\"/kaggle/input/salary2025software/2025-yazilim-sektoru-maaslari-onceki-yazilimci.xlsx\")\n",
    "\n",
    "df"
   ]
  },
  {
   "cell_type": "code",
   "execution_count": 4,
   "id": "54eecdde",
   "metadata": {
    "execution": {
     "iopub.execute_input": "2025-04-28T20:49:30.700410Z",
     "iopub.status.busy": "2025-04-28T20:49:30.699965Z",
     "iopub.status.idle": "2025-04-28T20:49:30.708874Z",
     "shell.execute_reply": "2025-04-28T20:49:30.707736Z"
    },
    "papermill": {
     "duration": 0.016636,
     "end_time": "2025-04-28T20:49:30.710297",
     "exception": false,
     "start_time": "2025-04-28T20:49:30.693661",
     "status": "completed"
    },
    "tags": []
   },
   "outputs": [
    {
     "name": "stdout",
     "output_type": "stream",
     "text": [
      "    level                            position          tech_stack  \\\n",
      "0  Senior                  Back-end Developer     Php, NodeJS, Go   \n",
      "1  Senior                Full Stack Developer       Java, Angular   \n",
      "2  Senior  Mobile Application Developer (iOS)  Swift, Objective C   \n",
      "3  Senior  Mobile Application Developer (iOS)               Swift   \n",
      "4  Middle                Full Stack Developer                 Php   \n",
      "\n",
      "        experience gender    company    company_size work_type         city  \\\n",
      "0  15 Yıl ve üzeri  Erkek  E-Ticaret  101 - 249 Kişi    Remote  * İngiltere   \n",
      "1        5 - 7 Yıl  Erkek    Sigorta            250+    Remote       Ankara   \n",
      "2      10 - 12 Yıl  Erkek      Banka            250+    Remote        Muğla   \n",
      "3       7 - 10 Yıl  Erkek  E-Ticaret            250+      Ofis     İstanbul   \n",
      "4        1 - 3 Yıl  Erkek  E-Ticaret      1 - 5 Kişi      Ofis     İstanbul   \n",
      "\n",
      "          currency             salary  raise_period  \n",
      "0        $ - Dolar      8.000 - 8.999             1  \n",
      "1  ₺ - Türk Lirası  140.000 - 144.999             2  \n",
      "2  ₺ - Türk Lirası  195.000 - 199.999             2  \n",
      "3  ₺ - Türk Lirası  220.000 - 229.999             1  \n",
      "4  ₺ - Türk Lirası    35.000 - 35.999             1  \n"
     ]
    }
   ],
   "source": [
    "print(df.head())"
   ]
  },
  {
   "cell_type": "code",
   "execution_count": 5,
   "id": "780701cf",
   "metadata": {
    "execution": {
     "iopub.execute_input": "2025-04-28T20:49:30.723085Z",
     "iopub.status.busy": "2025-04-28T20:49:30.722328Z",
     "iopub.status.idle": "2025-04-28T20:49:30.747882Z",
     "shell.execute_reply": "2025-04-28T20:49:30.746674Z"
    },
    "papermill": {
     "duration": 0.033644,
     "end_time": "2025-04-28T20:49:30.749235",
     "exception": false,
     "start_time": "2025-04-28T20:49:30.715591",
     "status": "completed"
    },
    "tags": []
   },
   "outputs": [
    {
     "name": "stdout",
     "output_type": "stream",
     "text": [
      "<class 'pandas.core.frame.DataFrame'>\n",
      "RangeIndex: 9056 entries, 0 to 9055\n",
      "Data columns (total 12 columns):\n",
      " #   Column        Non-Null Count  Dtype \n",
      "---  ------        --------------  ----- \n",
      " 0   level         9056 non-null   object\n",
      " 1   position      9056 non-null   object\n",
      " 2   tech_stack    9052 non-null   object\n",
      " 3   experience    9056 non-null   object\n",
      " 4   gender        9056 non-null   object\n",
      " 5   company       9056 non-null   object\n",
      " 6   company_size  9056 non-null   object\n",
      " 7   work_type     9056 non-null   object\n",
      " 8   city          9056 non-null   object\n",
      " 9   currency      9056 non-null   object\n",
      " 10  salary        9056 non-null   object\n",
      " 11  raise_period  9056 non-null   int64 \n",
      "dtypes: int64(1), object(11)\n",
      "memory usage: 849.1+ KB\n"
     ]
    }
   ],
   "source": [
    "df.info()"
   ]
  },
  {
   "cell_type": "markdown",
   "id": "6adb4728",
   "metadata": {
    "papermill": {
     "duration": 0.005134,
     "end_time": "2025-04-28T20:49:30.759846",
     "exception": false,
     "start_time": "2025-04-28T20:49:30.754712",
     "status": "completed"
    },
    "tags": []
   },
   "source": [
    "**SATIR VE SÜTUN KONTROLÜ**"
   ]
  },
  {
   "cell_type": "code",
   "execution_count": 6,
   "id": "7ec2c33d",
   "metadata": {
    "execution": {
     "iopub.execute_input": "2025-04-28T20:49:30.771475Z",
     "iopub.status.busy": "2025-04-28T20:49:30.771192Z",
     "iopub.status.idle": "2025-04-28T20:49:30.776410Z",
     "shell.execute_reply": "2025-04-28T20:49:30.775443Z"
    },
    "papermill": {
     "duration": 0.012761,
     "end_time": "2025-04-28T20:49:30.777858",
     "exception": false,
     "start_time": "2025-04-28T20:49:30.765097",
     "status": "completed"
    },
    "tags": []
   },
   "outputs": [
    {
     "name": "stdout",
     "output_type": "stream",
     "text": [
      "Satır sayısı(veri sayısı): 9056 \n",
      "Değişken sayısı: 12\n"
     ]
    }
   ],
   "source": [
    "satir, sütun = df.shape\n",
    "print(f\"Satır sayısı(veri sayısı): {satir} \\nDeğişken sayısı: {sütun}\")"
   ]
  },
  {
   "cell_type": "code",
   "execution_count": 7,
   "id": "7bb370c3",
   "metadata": {
    "execution": {
     "iopub.execute_input": "2025-04-28T20:49:30.789852Z",
     "iopub.status.busy": "2025-04-28T20:49:30.789503Z",
     "iopub.status.idle": "2025-04-28T20:49:30.803407Z",
     "shell.execute_reply": "2025-04-28T20:49:30.802535Z"
    },
    "papermill": {
     "duration": 0.021532,
     "end_time": "2025-04-28T20:49:30.804874",
     "exception": false,
     "start_time": "2025-04-28T20:49:30.783342",
     "status": "completed"
    },
    "tags": []
   },
   "outputs": [
    {
     "data": {
      "text/html": [
       "<div>\n",
       "<style scoped>\n",
       "    .dataframe tbody tr th:only-of-type {\n",
       "        vertical-align: middle;\n",
       "    }\n",
       "\n",
       "    .dataframe tbody tr th {\n",
       "        vertical-align: top;\n",
       "    }\n",
       "\n",
       "    .dataframe thead th {\n",
       "        text-align: right;\n",
       "    }\n",
       "</style>\n",
       "<table border=\"1\" class=\"dataframe\">\n",
       "  <thead>\n",
       "    <tr style=\"text-align: right;\">\n",
       "      <th></th>\n",
       "      <th>raise_period</th>\n",
       "    </tr>\n",
       "  </thead>\n",
       "  <tbody>\n",
       "    <tr>\n",
       "      <th>count</th>\n",
       "      <td>9056.000000</td>\n",
       "    </tr>\n",
       "    <tr>\n",
       "      <th>mean</th>\n",
       "      <td>1.538759</td>\n",
       "    </tr>\n",
       "    <tr>\n",
       "      <th>std</th>\n",
       "      <td>0.538767</td>\n",
       "    </tr>\n",
       "    <tr>\n",
       "      <th>min</th>\n",
       "      <td>1.000000</td>\n",
       "    </tr>\n",
       "    <tr>\n",
       "      <th>25%</th>\n",
       "      <td>1.000000</td>\n",
       "    </tr>\n",
       "    <tr>\n",
       "      <th>50%</th>\n",
       "      <td>2.000000</td>\n",
       "    </tr>\n",
       "    <tr>\n",
       "      <th>75%</th>\n",
       "      <td>2.000000</td>\n",
       "    </tr>\n",
       "    <tr>\n",
       "      <th>max</th>\n",
       "      <td>4.000000</td>\n",
       "    </tr>\n",
       "  </tbody>\n",
       "</table>\n",
       "</div>"
      ],
      "text/plain": [
       "       raise_period\n",
       "count   9056.000000\n",
       "mean       1.538759\n",
       "std        0.538767\n",
       "min        1.000000\n",
       "25%        1.000000\n",
       "50%        2.000000\n",
       "75%        2.000000\n",
       "max        4.000000"
      ]
     },
     "execution_count": 7,
     "metadata": {},
     "output_type": "execute_result"
    }
   ],
   "source": [
    "df.describe()"
   ]
  },
  {
   "cell_type": "markdown",
   "id": "bac416ce",
   "metadata": {
    "papermill": {
     "duration": 0.005356,
     "end_time": "2025-04-28T20:49:30.815960",
     "exception": false,
     "start_time": "2025-04-28T20:49:30.810604",
     "status": "completed"
    },
    "tags": []
   },
   "source": [
    "**NULL VERİ VE UNIQUE KONTROLÜ**"
   ]
  },
  {
   "cell_type": "code",
   "execution_count": 8,
   "id": "e34d400b",
   "metadata": {
    "execution": {
     "iopub.execute_input": "2025-04-28T20:49:30.828240Z",
     "iopub.status.busy": "2025-04-28T20:49:30.827420Z",
     "iopub.status.idle": "2025-04-28T20:49:30.856700Z",
     "shell.execute_reply": "2025-04-28T20:49:30.855778Z"
    },
    "papermill": {
     "duration": 0.037813,
     "end_time": "2025-04-28T20:49:30.859077",
     "exception": false,
     "start_time": "2025-04-28T20:49:30.821264",
     "status": "completed"
    },
    "tags": []
   },
   "outputs": [
    {
     "name": "stdout",
     "output_type": "stream",
     "text": [
      "unique level sayaç 3\n",
      "uniques ['Senior' 'Middle' 'Junior']\n",
      "\n",
      "Null veri yoktur!\n",
      "\n",
      "****\n",
      "unique position sayaç 59\n",
      "uniques ['Back-end Developer' 'Full Stack Developer'\n",
      " 'Mobile Application Developer (iOS)' 'QA / Manuel Test'\n",
      " 'Front-end Developer' 'Team / Tech Lead' 'QA / Automation'\n",
      " 'Data Scientist' 'Director of Software Development' 'Game Developer'\n",
      " 'Mobile Application Developer (Full Stack & Cross)' 'Data Analyst'\n",
      " 'Embedded Software Developer' 'Product Owner' 'Software Architect'\n",
      " 'Mobile Application Developer (Android)' 'Business Analyst'\n",
      " 'Product Manager' 'DevOps Engineer' 'Consultant'\n",
      " 'Software Development Manager / Engineering Manager' 'Project Manager'\n",
      " 'Software Engineer' 'RPA Developer' 'UI/UX Designer' 'AI Engineer'\n",
      " 'Database Administrator (DBA)' 'Data Engineer' 'Chief Data Officer'\n",
      " 'IT Manager' 'CTO' 'Robotic Software Engineer' 'R&D Manager'\n",
      " 'System Engineer' 'Support Engineer' 'Cyber Security' 'Network Engineer'\n",
      " 'SAP / ABAP Developer & Consultant' 'Business Intelligence'\n",
      " 'Solution Architect' 'Machine Learning Engineer' 'R&D Engineer'\n",
      " 'Data Architect' 'Program Manager' 'ERP Developer & Consultant'\n",
      " 'Site Reliability Engineer' 'System Admin'\n",
      " 'Digital Transformation Executive' 'Platform Engineer'\n",
      " 'Computer Vision Engineer' 'Lead Product' 'HR' 'Cloud Engineer' 'IT'\n",
      " 'No-Code Developer' 'Solution Developer & Architect' 'Agile Coach'\n",
      " 'Blockchain Engineer' 'QA Manager']\n",
      "\n",
      "Null veri yoktur!\n",
      "\n",
      "****\n",
      "unique tech_stack sayaç 1771\n",
      "uniques ['Php, NodeJS, Go' 'Java, Angular' 'Swift, Objective C' ... 'ERP'\n",
      " 'NodeJS, Go, Python, Swift, C / C++, JavaScript | Html | Css, React, React Native'\n",
      " '.Net, NodeJS, Delphi']\n",
      "\n",
      "Null veri var! Null veri sayısı: 4\n",
      "\n",
      "****\n",
      "unique experience sayaç 8\n",
      "uniques ['15 Yıl ve üzeri' '5 - 7 Yıl' '10 - 12 Yıl' '7 - 10 Yıl' '1 - 3 Yıl'\n",
      " '3 - 5 Yıl' '12 - 14 Yıl' '0 - 1 Yıl']\n",
      "\n",
      "Null veri yoktur!\n",
      "\n",
      "****\n",
      "unique gender sayaç 2\n",
      "uniques ['Erkek' 'Kadın']\n",
      "\n",
      "Null veri yoktur!\n",
      "\n",
      "****\n",
      "unique company sayaç 68\n",
      "uniques ['E-Ticaret' 'Sigorta' 'Banka' 'Fintech' 'Oyun'\n",
      " 'Yazılım Evi & Danışmanlık' 'Siber Güvenlik' 'Startup' 'Holding'\n",
      " 'Outsource' 'Enerji' 'Telekomünikasyon' 'Dijital / Reklam Ajansı'\n",
      " 'Otomotiv' 'Hizmet' 'Emlak' 'Savunma Sanayi' 'Saas' 'Kamu' 'Turizm'\n",
      " 'Diğer' 'Lojistik' 'Şans Oyunları & Bahis' 'Data' 'Medya' 'Havacılık'\n",
      " 'Eğitim' 'Sağlık' 'Fabrika' 'Perakende' 'Muhasebe' 'Makina' 'Üretim'\n",
      " 'Arge' 'Üniversite' 'Cloud' 'Tekstil & Giyim & Moda' 'Mobil Uygulama'\n",
      " 'İK & Danışmanlık' 'Gıda & Yemek' 'IoT' 'Kurumsal' 'SaaS' 'Elektronik'\n",
      " 'ERP & CRM' 'Mobilya' 'Entegratör' 'ERP' 'Tarım' 'Endüstri' 'Otomasyon'\n",
      " 'Dernek & Vakıf' 'Danışmanlık' 'Hukuk' 'Pazarlama' 'Üniversite ' 'Borsa'\n",
      " 'Eğlence' 'Kripto' 'Coğrafi Bilgi sistemleri' 'AI (Yapay Zeka)'\n",
      " 'Akıllı Şehirler' 'Danışmanlık ' 'Freelancer' 'İnşaat' 'Beyaz Eşya'\n",
      " 'Reklam' 'Sanayi']\n",
      "\n",
      "Null veri yoktur!\n",
      "\n",
      "****\n",
      "unique company_size sayaç 7\n",
      "uniques ['101 - 249 Kişi' '250+' '1 - 5 Kişi' '21 - 50 Kişi' '6 - 10 Kişi'\n",
      " '51 - 100 Kişi' '11 - 20 Kişi']\n",
      "\n",
      "Null veri yoktur!\n",
      "\n",
      "****\n",
      "unique work_type sayaç 5\n",
      "uniques ['Remote' 'Ofis' 'Hibrit (Ofis + Remote)'\n",
      " 'Şu an remote ama hibrite döneceğiz.' 'Şu an hibrit ama ofise döneceğiz.']\n",
      "\n",
      "Null veri yoktur!\n",
      "\n",
      "****\n",
      "unique city sayaç 107\n",
      "uniques ['* İngiltere' 'Ankara' 'Muğla' 'İstanbul' 'Bursa' 'Samsun' 'İzmir'\n",
      " 'Antalya' 'Eskişehir' '* Letonya' 'Denizli' '* Almanya' 'Balıkesir'\n",
      " 'Giresun' 'Mersin' 'Edirne' 'Kocaeli' 'Hatay' '* Malta' 'Yalova' 'Aydın'\n",
      " 'Ordu' 'Uşak' '* Lüksemburg' 'Tekirdağ' '* Hong Kong' 'Sakarya'\n",
      " 'Gaziantep' 'Sinop' '* Hollanda' 'Konya' 'Batman' 'Malatya'\n",
      " 'Kahramanmaraş' 'Kayseri' '* Türkiye' 'Çanakkale' 'Tokat' 'Artvin'\n",
      " 'Bilecik' '* ABD' 'Erzurum' 'Afyonkarahisar' 'Düzce' 'Niğde' 'Manisa'\n",
      " '* Dubai' 'Adana' '* Kanada' '* İsveç' 'Trabzon' 'Ardahan' 'Diyarbakır'\n",
      " 'Zonguldak' 'Elazığ' 'Sivas' '* İtalya' 'Kilis' '* Çekya' 'Kastamonu'\n",
      " 'Karabük' 'Yozgat' '* Avusturya' 'Isparta' 'Kırşehir' 'Osmaniye' 'Bolu'\n",
      " 'Van' '* Estonya' 'Adıyaman' 'Nevşehir' '* Polonya' 'Erzincan' 'Iğdır'\n",
      " '* KKTC' '* Finlandiya' '* Avrupa' '* Portekiz' 'Kars' 'Kütahya' 'Amasya'\n",
      " '* Birleşik Arap Emirlikleri' '* Belçika' '* Fransa' 'Çorum' '* İrlanda'\n",
      " '* İsviçre' 'Kırklareli' 'Bitlis' 'Şanlıurfa' 'Rize' 'Hakkari'\n",
      " '* Tayland' 'Ağrı' 'Mardin' '* Arnavutluk' '* Meksika' '* Japonya'\n",
      " '* İspanya' '* Slovakya' 'Karaman' '* Azerbaycan' 'Aksaray'\n",
      " '* Güney Kore' '* Bosna Hersek' 'Muş' '* Karadağ']\n",
      "\n",
      "Null veri yoktur!\n",
      "\n",
      "****\n",
      "unique currency sayaç 4\n",
      "uniques ['$ - Dolar' '₺ - Türk Lirası' '€ - Euro' '£ - Sterlin']\n",
      "\n",
      "Null veri yoktur!\n",
      "\n",
      "****\n",
      "unique salary sayaç 109\n",
      "uniques ['8.000 - 8.999' '140.000 - 144.999' '195.000 - 199.999'\n",
      " '220.000 - 229.999' '35.000 - 35.999' '65.000 - 65.999' '75.000 - 79.999'\n",
      " '90.000 - 94.999' '200.000 - 209.999' '38.000 - 38.999'\n",
      " '155.000 - 159.999' '150.000 - 154.999' '22.000 - 22.999' '6.000 - 6.999'\n",
      " '54.000 - 54.999' '115.000 - 119.999' '180.000 - 184.999'\n",
      " '190.000 - 194.999' '85.000 - 89.999' '105.000 - 109.999'\n",
      " '95.000 - 99.999' '100.000 - 104.999' '210.000 - 219.999'\n",
      " '120.000 - 124.999' '40.000 - 40.999' '160.000 - 164.999'\n",
      " '80.000 - 84.999' '9.000 - 9.999' '3.000 - 3.999' '60.000 - 60.999'\n",
      " '50.000 - 50.999' '70.000 - 70.999' '74.000 - 74.999' '45.000 - 45.999'\n",
      " '135.000 - 139.999' '110.000 - 114.999' '240.000 - 249.999'\n",
      " '280.000 - 289.999' '270.000 - 279.999' '46.000 - 46.999'\n",
      " '55.000 - 55.999' '4.000 - 4.999' '260.000 - 269.999' '125.000 - 129.999'\n",
      " '2.000 - 2.999' '175.000 - 179.999' '63.000 - 63.999' '1.000 - 1.999'\n",
      " '24.000 - 24.999' '130.000 - 134.999' '68.000 - 68.999' '7.000 - 7.999'\n",
      " '145.000 - 149.999' '61.000 - 61.999' '71.000 - 71.999' '43.000 - 43.999'\n",
      " '5.000 - 5.999' '49.000 - 49.999' '30.000 - 30.999' '185.000 - 189.999'\n",
      " '53.000 - 53.999' '57.000 - 57.999' '73.000 - 73.999' '69.000 - 69.999'\n",
      " '39.000 - 39.999' '170.000 - 174.999' '62.000 - 62.999' '41.000 - 41.999'\n",
      " '250.000 - 259.999' '58.000 - 58.999' '59.000 - 59.999' '10.000 - 10.999'\n",
      " '56.000 - 56.999' '34.000 - 34.999' '13.000 - 13.999' '300.000+'\n",
      " '230.000 - 239.999' '42.000 - 42.999' '165.000 - 169.999'\n",
      " '67.000 - 67.999' '15.000 - 15.999' '72.000 - 72.999' '26.000 - 26.999'\n",
      " '48.000 - 48.999' '28.000 - 28.999' '51.000 - 51.999' '12.000 - 12.999'\n",
      " '36.000 - 36.999' '44.000 - 44.999' '25.000 - 25.999' '52.000 - 52.999'\n",
      " '64.000 - 64.999' '29.000 - 29.999' '66.000 - 66.999' '32.000 - 32.999'\n",
      " '33.000 - 33.999' '47.000 - 47.999' '14.000 - 14.999' '37.000 - 37.999'\n",
      " '27.000 - 27.999' '23.000 - 23.999' '290.000 - 299.999' '31.000 - 31.999'\n",
      " '18.000 - 18.999' '20.000 - 20.999' '17.000 - 17.999' '11.000 - 11.999'\n",
      " '21.000 - 21.999' '16.000 - 16.999']\n",
      "\n",
      "Null veri yoktur!\n",
      "\n",
      "****\n",
      "unique raise_period sayaç 4\n",
      "uniques [1 2 3 4]\n",
      "\n",
      "Null veri yoktur!\n",
      "\n",
      "****\n"
     ]
    }
   ],
   "source": [
    "for column in df.columns:\n",
    "    unique_values = df[column].unique()\n",
    "    print(f\"unique {column} sayaç {len(unique_values)}\")\n",
    "    print(f\"uniques {df[column].unique()}\")\n",
    "    print()\n",
    "    boş_veri = df[column].isnull().sum()\n",
    "\n",
    "    if boş_veri > 0:\n",
    "        print(f\"Null veri var! Null veri sayısı: {boş_veri}\")\n",
    "    else:\n",
    "        print(\"Null veri yoktur!\")\n",
    "    print()\n",
    "    \n",
    "    print(\"****\")\n"
   ]
  },
  {
   "cell_type": "markdown",
   "id": "cb952ef1",
   "metadata": {
    "papermill": {
     "duration": 0.005727,
     "end_time": "2025-04-28T20:49:30.871077",
     "exception": false,
     "start_time": "2025-04-28T20:49:30.865350",
     "status": "completed"
    },
    "tags": []
   },
   "source": [
    "**TEKRARLAYAN SATIR KONTROLU**"
   ]
  },
  {
   "cell_type": "code",
   "execution_count": 9,
   "id": "b9c1e061",
   "metadata": {
    "execution": {
     "iopub.execute_input": "2025-04-28T20:49:30.884622Z",
     "iopub.status.busy": "2025-04-28T20:49:30.884028Z",
     "iopub.status.idle": "2025-04-28T20:49:30.902432Z",
     "shell.execute_reply": "2025-04-28T20:49:30.901642Z"
    },
    "papermill": {
     "duration": 0.027062,
     "end_time": "2025-04-28T20:49:30.904376",
     "exception": false,
     "start_time": "2025-04-28T20:49:30.877314",
     "status": "completed"
    },
    "tags": []
   },
   "outputs": [
    {
     "name": "stdout",
     "output_type": "stream",
     "text": [
      "tekrarlayan veri sayısı 30\n",
      "tekrarlayan veriler        level                                position  \\\n",
      "585   Junior                    Full Stack Developer   \n",
      "1543  Senior                      Back-end Developer   \n",
      "2332  Senior                      Back-end Developer   \n",
      "2422  Middle             Embedded Software Developer   \n",
      "3219  Middle                        Business Analyst   \n",
      "3822  Senior                     Front-end Developer   \n",
      "3823  Senior                     Front-end Developer   \n",
      "3824  Senior                     Front-end Developer   \n",
      "3891  Middle                     Front-end Developer   \n",
      "4154  Middle             Embedded Software Developer   \n",
      "4456  Senior                      Back-end Developer   \n",
      "4746  Middle                      Back-end Developer   \n",
      "5164  Senior                      Software Architect   \n",
      "5293  Middle                    Full Stack Developer   \n",
      "5312  Senior                      Back-end Developer   \n",
      "5801  Middle                    Full Stack Developer   \n",
      "5987  Senior                      Back-end Developer   \n",
      "6122  Senior                      Back-end Developer   \n",
      "6342  Middle                          Game Developer   \n",
      "6400  Senior                      Back-end Developer   \n",
      "6862  Senior                      Back-end Developer   \n",
      "6896  Senior                      Back-end Developer   \n",
      "6935  Senior                    Full Stack Developer   \n",
      "7096  Senior  Mobile Application Developer (Android)   \n",
      "7328  Senior                      Back-end Developer   \n",
      "7445  Senior                    Full Stack Developer   \n",
      "7748  Middle                     Front-end Developer   \n",
      "7969  Senior                    Full Stack Developer   \n",
      "8114  Senior                      Back-end Developer   \n",
      "8552  Senior                      Back-end Developer   \n",
      "\n",
      "                                        tech_stack   experience gender  \\\n",
      "585         .Net, JavaScript | Html | Css, Angular    1 - 3 Yıl  Erkek   \n",
      "1543                                          .Net    5 - 7 Yıl  Erkek   \n",
      "2332                                          .Net   7 - 10 Yıl  Erkek   \n",
      "2422                                       C / C++    3 - 5 Yıl  Erkek   \n",
      "3219                                           Sql    3 - 5 Yıl  Kadın   \n",
      "3822           JavaScript | Html | Css, React, Vue  12 - 14 Yıl  Erkek   \n",
      "3823           JavaScript | Html | Css, React, Vue  12 - 14 Yıl  Erkek   \n",
      "3824           JavaScript | Html | Css, React, Vue  12 - 14 Yıl  Erkek   \n",
      "3891  JavaScript | Html | Css, React, React Native    1 - 3 Yıl  Erkek   \n",
      "4154                                       C / C++    3 - 5 Yıl  Erkek   \n",
      "4456                                          Java    5 - 7 Yıl  Erkek   \n",
      "4746                                          Java    3 - 5 Yıl  Erkek   \n",
      "5164                                          .Net  10 - 12 Yıl  Erkek   \n",
      "5293          Java, JavaScript | Html | Css, React    3 - 5 Yıl  Erkek   \n",
      "5312                                          .Net    5 - 7 Yıl  Erkek   \n",
      "5801                                          .Net    5 - 7 Yıl  Erkek   \n",
      "5987                                          .Net    5 - 7 Yıl  Erkek   \n",
      "6122                                          Java   7 - 10 Yıl  Erkek   \n",
      "6342                                         Unity    3 - 5 Yıl  Erkek   \n",
      "6400                                          Java    5 - 7 Yıl  Erkek   \n",
      "6862                                           Php   7 - 10 Yıl  Erkek   \n",
      "6896                                          .Net    5 - 7 Yıl  Erkek   \n",
      "6935                 .Net, JavaScript | Html | Css  12 - 14 Yıl  Erkek   \n",
      "7096                                  Java, Kotlin   7 - 10 Yıl  Erkek   \n",
      "7328                                          Java    3 - 5 Yıl  Erkek   \n",
      "7445                                 .Net, Angular    5 - 7 Yıl  Erkek   \n",
      "7748                JavaScript | Html | Css, React    3 - 5 Yıl  Erkek   \n",
      "7969                                   Java, React   7 - 10 Yıl  Erkek   \n",
      "8114                                          .Net    5 - 7 Yıl  Erkek   \n",
      "8552                                          .Net  10 - 12 Yıl  Erkek   \n",
      "\n",
      "                        company    company_size  \\\n",
      "585   Yazılım Evi & Danışmanlık     6 - 10 Kişi   \n",
      "1543                  E-Ticaret            250+   \n",
      "2332                    Fintech   51 - 100 Kişi   \n",
      "2422             Savunma Sanayi            250+   \n",
      "3219                 Elektronik            250+   \n",
      "3822                      Medya   51 - 100 Kişi   \n",
      "3823                      Medya   51 - 100 Kişi   \n",
      "3824                      Medya   51 - 100 Kişi   \n",
      "3891                  Perakende            250+   \n",
      "4154             Savunma Sanayi            250+   \n",
      "4456           Telekomünikasyon            250+   \n",
      "4746                     Turizm            250+   \n",
      "5164                      Banka            250+   \n",
      "5293                      Banka            250+   \n",
      "5312                     Turizm            250+   \n",
      "5801                  Outsource            250+   \n",
      "5987                    Fintech  101 - 249 Kişi   \n",
      "6122  Yazılım Evi & Danışmanlık            250+   \n",
      "6342                       Oyun      1 - 5 Kişi   \n",
      "6400                  Outsource            250+   \n",
      "6862      Şans Oyunları & Bahis  101 - 249 Kişi   \n",
      "6896                     Turizm            250+   \n",
      "6935                    Fintech    21 - 50 Kişi   \n",
      "7096                      Banka            250+   \n",
      "7328           Telekomünikasyon            250+   \n",
      "7445                    Fintech            250+   \n",
      "7748                      Banka            250+   \n",
      "7969                      Banka            250+   \n",
      "8114                  E-Ticaret  101 - 249 Kişi   \n",
      "8552                     Turizm            250+   \n",
      "\n",
      "                                work_type       city         currency  \\\n",
      "585                Hibrit (Ofis + Remote)    Sakarya  ₺ - Türk Lirası   \n",
      "1543                               Remote   İstanbul  ₺ - Türk Lirası   \n",
      "2332               Hibrit (Ofis + Remote)   İstanbul  ₺ - Türk Lirası   \n",
      "2422                                 Ofis     Ankara  ₺ - Türk Lirası   \n",
      "3219               Hibrit (Ofis + Remote)   İstanbul  ₺ - Türk Lirası   \n",
      "3822               Hibrit (Ofis + Remote)   İstanbul  ₺ - Türk Lirası   \n",
      "3823               Hibrit (Ofis + Remote)   İstanbul  ₺ - Türk Lirası   \n",
      "3824               Hibrit (Ofis + Remote)   İstanbul  ₺ - Türk Lirası   \n",
      "3891               Hibrit (Ofis + Remote)   İstanbul  ₺ - Türk Lirası   \n",
      "4154                                 Ofis     Ankara  ₺ - Türk Lirası   \n",
      "4456               Hibrit (Ofis + Remote)   İstanbul  ₺ - Türk Lirası   \n",
      "4746               Hibrit (Ofis + Remote)   İstanbul  ₺ - Türk Lirası   \n",
      "5164                               Remote     Ankara  ₺ - Türk Lirası   \n",
      "5293               Hibrit (Ofis + Remote)   İstanbul  ₺ - Türk Lirası   \n",
      "5312                               Remote   İstanbul  ₺ - Türk Lirası   \n",
      "5801                               Remote  Şanlıurfa  ₺ - Türk Lirası   \n",
      "5987               Hibrit (Ofis + Remote)   İstanbul  ₺ - Türk Lirası   \n",
      "6122                               Remote   İstanbul  ₺ - Türk Lirası   \n",
      "6342               Hibrit (Ofis + Remote)     Ankara  ₺ - Türk Lirası   \n",
      "6400                               Remote   İstanbul  ₺ - Türk Lirası   \n",
      "6862                               Remote   İstanbul         € - Euro   \n",
      "6896                               Remote   İstanbul  ₺ - Türk Lirası   \n",
      "6935                               Remote      Muğla        $ - Dolar   \n",
      "7096                               Remote   İstanbul  ₺ - Türk Lirası   \n",
      "7328               Hibrit (Ofis + Remote)   İstanbul  ₺ - Türk Lirası   \n",
      "7445                               Remote      İzmir  ₺ - Türk Lirası   \n",
      "7748                               Remote   İstanbul  ₺ - Türk Lirası   \n",
      "7969  Şu an remote ama hibrite döneceğiz.   İstanbul  ₺ - Türk Lirası   \n",
      "8114                               Remote   İstanbul  ₺ - Türk Lirası   \n",
      "8552                                 Ofis    Antalya  ₺ - Türk Lirası   \n",
      "\n",
      "                 salary  raise_period  \n",
      "585     40.000 - 40.999             1  \n",
      "1543  125.000 - 129.999             2  \n",
      "2332  180.000 - 184.999             2  \n",
      "2422  110.000 - 114.999             2  \n",
      "3219    75.000 - 79.999             2  \n",
      "3822  110.000 - 114.999             1  \n",
      "3823  110.000 - 114.999             1  \n",
      "3824  110.000 - 114.999             1  \n",
      "3891    80.000 - 84.999             1  \n",
      "4154    90.000 - 94.999             2  \n",
      "4456  100.000 - 104.999             2  \n",
      "4746    85.000 - 89.999             2  \n",
      "5164  145.000 - 149.999             2  \n",
      "5293    80.000 - 84.999             2  \n",
      "5312  110.000 - 114.999             1  \n",
      "5801    90.000 - 94.999             1  \n",
      "5987  130.000 - 134.999             2  \n",
      "6122  125.000 - 129.999             2  \n",
      "6342    60.000 - 60.999             2  \n",
      "6400  125.000 - 129.999             2  \n",
      "6862      2.000 - 2.999             1  \n",
      "6896  125.000 - 129.999             2  \n",
      "6935      5.000 - 5.999             1  \n",
      "7096  150.000 - 154.999             2  \n",
      "7328    75.000 - 79.999             2  \n",
      "7445  100.000 - 104.999             2  \n",
      "7748    90.000 - 94.999             1  \n",
      "7969  190.000 - 194.999             2  \n",
      "8114  135.000 - 139.999             1  \n",
      "8552  125.000 - 129.999             1  \n"
     ]
    }
   ],
   "source": [
    "tekrarlayan_kayit=df[df.duplicated()]\n",
    "print(f\"tekrarlayan veri sayısı {tekrarlayan_kayit.shape[0]}\")\n",
    "print(f\"tekrarlayan veriler {tekrarlayan_kayit}\")"
   ]
  },
  {
   "cell_type": "markdown",
   "id": "fbb7f596",
   "metadata": {
    "papermill": {
     "duration": 0.005692,
     "end_time": "2025-04-28T20:49:30.916571",
     "exception": false,
     "start_time": "2025-04-28T20:49:30.910879",
     "status": "completed"
    },
    "tags": []
   },
   "source": [
    "**Veri Ön İşleme**"
   ]
  },
  {
   "cell_type": "code",
   "execution_count": 10,
   "id": "eb62fee1",
   "metadata": {
    "execution": {
     "iopub.execute_input": "2025-04-28T20:49:30.930599Z",
     "iopub.status.busy": "2025-04-28T20:49:30.930317Z",
     "iopub.status.idle": "2025-04-28T20:49:30.944993Z",
     "shell.execute_reply": "2025-04-28T20:49:30.944140Z"
    },
    "papermill": {
     "duration": 0.023861,
     "end_time": "2025-04-28T20:49:30.946675",
     "exception": false,
     "start_time": "2025-04-28T20:49:30.922814",
     "status": "completed"
    },
    "tags": []
   },
   "outputs": [],
   "source": [
    "#Tekrarlayan satırların silinmesi\n",
    "df.drop_duplicates(inplace=True)"
   ]
  },
  {
   "cell_type": "code",
   "execution_count": 11,
   "id": "d7076640",
   "metadata": {
    "execution": {
     "iopub.execute_input": "2025-04-28T20:49:30.960128Z",
     "iopub.status.busy": "2025-04-28T20:49:30.959833Z",
     "iopub.status.idle": "2025-04-28T20:49:30.964827Z",
     "shell.execute_reply": "2025-04-28T20:49:30.963887Z"
    },
    "papermill": {
     "duration": 0.013344,
     "end_time": "2025-04-28T20:49:30.966149",
     "exception": false,
     "start_time": "2025-04-28T20:49:30.952805",
     "status": "completed"
    },
    "tags": []
   },
   "outputs": [
    {
     "name": "stdout",
     "output_type": "stream",
     "text": [
      "Satır sayısı(veri sayısı): 9026 \n",
      "Değişken sayısı: 12\n"
     ]
    }
   ],
   "source": [
    "#Satır sayısı kontrol\n",
    "satir, sütun = df.shape\n",
    "print(f\"Satır sayısı(veri sayısı): {satir} \\nDeğişken sayısı: {sütun}\")"
   ]
  },
  {
   "cell_type": "code",
   "execution_count": 12,
   "id": "7ac1cdac",
   "metadata": {
    "execution": {
     "iopub.execute_input": "2025-04-28T20:49:30.979536Z",
     "iopub.status.busy": "2025-04-28T20:49:30.979264Z",
     "iopub.status.idle": "2025-04-28T20:49:30.988375Z",
     "shell.execute_reply": "2025-04-28T20:49:30.987340Z"
    },
    "papermill": {
     "duration": 0.017627,
     "end_time": "2025-04-28T20:49:30.989897",
     "exception": false,
     "start_time": "2025-04-28T20:49:30.972270",
     "status": "completed"
    },
    "tags": []
   },
   "outputs": [
    {
     "name": "stdout",
     "output_type": "stream",
     "text": [
      "Tech_stack boş veri kontrolü : 0\n"
     ]
    }
   ],
   "source": [
    "#tech_stack boş verileri doldurma\n",
    "doldur = \"belirtilmemis\"\n",
    "#df['tech_stack'].fillna(doldur,inplace=True)\n",
    "df.fillna({'tech_stack':doldur},inplace=True)\n",
    "\n",
    "boş_veri = df['tech_stack'].isnull().sum()\n",
    "print(f\"Tech_stack boş veri kontrolü : {boş_veri}\")"
   ]
  },
  {
   "cell_type": "code",
   "execution_count": 13,
   "id": "195be907",
   "metadata": {
    "execution": {
     "iopub.execute_input": "2025-04-28T20:49:31.003909Z",
     "iopub.status.busy": "2025-04-28T20:49:31.003264Z",
     "iopub.status.idle": "2025-04-28T20:49:31.013391Z",
     "shell.execute_reply": "2025-04-28T20:49:31.012515Z"
    },
    "papermill": {
     "duration": 0.01878,
     "end_time": "2025-04-28T20:49:31.014893",
     "exception": false,
     "start_time": "2025-04-28T20:49:30.996113",
     "status": "completed"
    },
    "tags": []
   },
   "outputs": [
    {
     "data": {
      "text/plain": [
       "array(['İngiltere', 'Ankara', 'Muğla', 'İstanbul', 'Bursa', 'Samsun',\n",
       "       'İzmir', 'Antalya', 'Eskişehir', 'Letonya', 'Denizli', 'Almanya',\n",
       "       'Balıkesir', 'Giresun', 'Mersin', 'Edirne', 'Kocaeli', 'Hatay',\n",
       "       'Malta', 'Yalova', 'Aydın', 'Ordu', 'Uşak', 'Lüksemburg',\n",
       "       'Tekirdağ', 'Hong Kong', 'Sakarya', 'Gaziantep', 'Sinop',\n",
       "       'Hollanda', 'Konya', 'Batman', 'Malatya', 'Kahramanmaraş',\n",
       "       'Kayseri', 'Türkiye', 'Çanakkale', 'Tokat', 'Artvin', 'Bilecik',\n",
       "       'ABD', 'Erzurum', 'Afyonkarahisar', 'Düzce', 'Niğde', 'Manisa',\n",
       "       'Dubai', 'Adana', 'Kanada', 'İsveç', 'Trabzon', 'Ardahan',\n",
       "       'Diyarbakır', 'Zonguldak', 'Elazığ', 'Sivas', 'İtalya', 'Kilis',\n",
       "       'Çekya', 'Kastamonu', 'Karabük', 'Yozgat', 'Avusturya', 'Isparta',\n",
       "       'Kırşehir', 'Osmaniye', 'Bolu', 'Van', 'Estonya', 'Adıyaman',\n",
       "       'Nevşehir', 'Polonya', 'Erzincan', 'Iğdır', 'KKTC', 'Finlandiya',\n",
       "       'Avrupa', 'Portekiz', 'Kars', 'Kütahya', 'Amasya',\n",
       "       'Birleşik Arap Emirlikleri', 'Belçika', 'Fransa', 'Çorum',\n",
       "       'İrlanda', 'İsviçre', 'Kırklareli', 'Bitlis', 'Şanlıurfa', 'Rize',\n",
       "       'Hakkari', 'Tayland', 'Ağrı', 'Mardin', 'Arnavutluk', 'Meksika',\n",
       "       'Japonya', 'İspanya', 'Slovakya', 'Karaman', 'Azerbaycan',\n",
       "       'Aksaray', 'Güney Kore', 'Bosna Hersek', 'Muş', 'Karadağ'],\n",
       "      dtype=object)"
      ]
     },
     "execution_count": 13,
     "metadata": {},
     "output_type": "execute_result"
    }
   ],
   "source": [
    "#city sütunundaki baştaki '*' karakterini kaldırma\n",
    "\n",
    "#def temizle(x):\n",
    "#    return x.lstrip('* ').strip()\n",
    "#df['city'] = df['city'].apply(temizle) \n",
    "\n",
    "df['city'] = df['city'].apply(lambda x: x.lstrip('* ').strip())\n",
    "\n",
    "#city sütunu kontrolü\n",
    "\n",
    "df['city'].unique()"
   ]
  },
  {
   "cell_type": "code",
   "execution_count": 14,
   "id": "354c32cc",
   "metadata": {
    "execution": {
     "iopub.execute_input": "2025-04-28T20:49:31.028489Z",
     "iopub.status.busy": "2025-04-28T20:49:31.028185Z",
     "iopub.status.idle": "2025-04-28T20:49:31.033326Z",
     "shell.execute_reply": "2025-04-28T20:49:31.032435Z"
    },
    "papermill": {
     "duration": 0.013616,
     "end_time": "2025-04-28T20:49:31.034825",
     "exception": false,
     "start_time": "2025-04-28T20:49:31.021209",
     "status": "completed"
    },
    "tags": []
   },
   "outputs": [],
   "source": [
    "#work sütunu Standardize\n",
    "def standardize_work_type(work):\n",
    "    work_lower = work.lower()\n",
    "    if 'remote' in work_lower and 'hibrit' in work_lower:\n",
    "        return 'Hibrit'\n",
    "    elif 'remote' in work_lower:\n",
    "        return 'Remote'\n",
    "    elif 'hibrit' in work_lower:\n",
    "        return 'Hibrit'\n",
    "    elif 'ofis' in work_lower:\n",
    "        return 'Ofis'\n",
    "    else:\n",
    "        return work"
   ]
  },
  {
   "cell_type": "code",
   "execution_count": 15,
   "id": "6fc0a3ff",
   "metadata": {
    "execution": {
     "iopub.execute_input": "2025-04-28T20:49:31.048937Z",
     "iopub.status.busy": "2025-04-28T20:49:31.048540Z",
     "iopub.status.idle": "2025-04-28T20:49:31.060125Z",
     "shell.execute_reply": "2025-04-28T20:49:31.059399Z"
    },
    "papermill": {
     "duration": 0.020048,
     "end_time": "2025-04-28T20:49:31.061426",
     "exception": false,
     "start_time": "2025-04-28T20:49:31.041378",
     "status": "completed"
    },
    "tags": []
   },
   "outputs": [
    {
     "data": {
      "text/plain": [
       "work_type\n",
       "Hibrit    3956\n",
       "Remote    3590\n",
       "Ofis      1480\n",
       "Name: count, dtype: int64"
      ]
     },
     "execution_count": 15,
     "metadata": {},
     "output_type": "execute_result"
    }
   ],
   "source": [
    "df['work_type']=df['work_type'].apply(standardize_work_type)\n",
    "\n",
    "#work_type sütun kontrol\n",
    "\n",
    "df['work_type'].value_counts()"
   ]
  },
  {
   "cell_type": "code",
   "execution_count": 16,
   "id": "7b1a00a9",
   "metadata": {
    "execution": {
     "iopub.execute_input": "2025-04-28T20:49:31.075527Z",
     "iopub.status.busy": "2025-04-28T20:49:31.075268Z",
     "iopub.status.idle": "2025-04-28T20:49:31.105227Z",
     "shell.execute_reply": "2025-04-28T20:49:31.104234Z"
    },
    "papermill": {
     "duration": 0.038659,
     "end_time": "2025-04-28T20:49:31.106530",
     "exception": false,
     "start_time": "2025-04-28T20:49:31.067871",
     "status": "completed"
    },
    "tags": []
   },
   "outputs": [
    {
     "name": "stdout",
     "output_type": "stream",
     "text": [
      "0    17.000000\n",
      "1     6.000000\n",
      "2     1.000000\n",
      "3     2.666667\n",
      "4     2.000000\n",
      "Name: experience, dtype: float64\n"
     ]
    }
   ],
   "source": [
    "#experience sütunu sayısal hale getirme\n",
    "def experience_2_numeric(xp):\n",
    "    xp=str(xp).lower()\n",
    "    if 'üzeri' in xp or '+' in xp:\n",
    "        years = int(re.findall(r'\\d+', xp)[0])\n",
    "        return years + 2 # 15 veya biraz üstü -> 15+2 = 17\n",
    "    elif '-' in xp:\n",
    "        nums = [int(s) for s in re.findall(r'\\d', xp)]\n",
    "        return sum(nums)/len(nums) if len(nums) > 0 else 0\n",
    "    elif '0' in xp or 'yeni' in xp: #0-1 Yıl veya benzeri\n",
    "        return 0.5\n",
    "    else:\n",
    "        nums = [int(s) for s in re.findall(r'\\d',xp)]\n",
    "        return nums[0] if len(nums) > 0 else np.nan\n",
    "\n",
    "df['experience'] = df['experience'].apply(experience_2_numeric)\n",
    "print(df['experience'].head())\n"
   ]
  },
  {
   "cell_type": "code",
   "execution_count": 17,
   "id": "a654449c",
   "metadata": {
    "execution": {
     "iopub.execute_input": "2025-04-28T20:49:31.121324Z",
     "iopub.status.busy": "2025-04-28T20:49:31.120518Z",
     "iopub.status.idle": "2025-04-28T20:49:31.146771Z",
     "shell.execute_reply": "2025-04-28T20:49:31.145842Z"
    },
    "papermill": {
     "duration": 0.035193,
     "end_time": "2025-04-28T20:49:31.148366",
     "exception": false,
     "start_time": "2025-04-28T20:49:31.113173",
     "status": "completed"
    },
    "tags": []
   },
   "outputs": [],
   "source": [
    "#company_size sütunu sayısal hale getirme\n",
    "\n",
    "def company_size_2_numeric(size):\n",
    "    size = str(size).lower()\n",
    "    if '+' in size:\n",
    "        num = int(re.findall(r'\\d+',size)[0])\n",
    "        return num + 50 # 250+ -> 250 + 50\n",
    "    elif '-' in size:\n",
    "        # 101-249 kişi -> (101+249)/2 = 175\n",
    "        nums = [int(s) for s in re.findall(r'\\d+',size)]\n",
    "        return sum(nums) / len(nums) if len(nums) > 0 else 0\n",
    "    else:\n",
    "        #Tek sayı\n",
    "        nums = [int(s) for s in re.findall(r'\\d+',size)]\n",
    "        return nums[0] if len(nums) > 0 else np.nan\n",
    "\n",
    "df['company_size'] = df['company_size'].apply(company_size_2_numeric)"
   ]
  },
  {
   "cell_type": "code",
   "execution_count": 18,
   "id": "bdb2fbc3",
   "metadata": {
    "execution": {
     "iopub.execute_input": "2025-04-28T20:49:31.162676Z",
     "iopub.status.busy": "2025-04-28T20:49:31.162166Z",
     "iopub.status.idle": "2025-04-28T20:49:31.169052Z",
     "shell.execute_reply": "2025-04-28T20:49:31.168137Z"
    },
    "papermill": {
     "duration": 0.015509,
     "end_time": "2025-04-28T20:49:31.170423",
     "exception": false,
     "start_time": "2025-04-28T20:49:31.154914",
     "status": "completed"
    },
    "tags": []
   },
   "outputs": [
    {
     "data": {
      "text/plain": [
       "0        8.000 - 8.999\n",
       "1    140.000 - 144.999\n",
       "2    195.000 - 199.999\n",
       "3    220.000 - 229.999\n",
       "4      35.000 - 35.999\n",
       "Name: salary, dtype: object"
      ]
     },
     "execution_count": 18,
     "metadata": {},
     "output_type": "execute_result"
    }
   ],
   "source": [
    "df['salary'].head()"
   ]
  },
  {
   "cell_type": "code",
   "execution_count": 19,
   "id": "f36afe55",
   "metadata": {
    "execution": {
     "iopub.execute_input": "2025-04-28T20:49:31.184782Z",
     "iopub.status.busy": "2025-04-28T20:49:31.184141Z",
     "iopub.status.idle": "2025-04-28T20:49:31.212984Z",
     "shell.execute_reply": "2025-04-28T20:49:31.212059Z"
    },
    "papermill": {
     "duration": 0.037952,
     "end_time": "2025-04-28T20:49:31.214810",
     "exception": false,
     "start_time": "2025-04-28T20:49:31.176858",
     "status": "completed"
    },
    "tags": []
   },
   "outputs": [],
   "source": [
    "#salary sütunu sayısal hale getirme\n",
    "\n",
    "def salary_2_numeric(srange):\n",
    "    srange = str(srange).replace('.', '').replace(',', '') #nokta ve virgül temizliği\n",
    "    if '+' in srange:\n",
    "        num = int(re.findall(r'\\d+', srange)[0])\n",
    "        return num + 10000 # 30000+10000\n",
    "    elif '-' in srange:\n",
    "        nums = [int(s) for s in re.findall(r'\\d+',srange)] \n",
    "        return sum(nums) / len(nums) if len(nums) > 0 else 0 # 8000-8999 -> (8000+8999) / 2 = 8499.5\n",
    "    else:\n",
    "        #sadece tek bir sayı\n",
    "        nums = [int(s) for s in re.findall(r'\\d+',srange)]\n",
    "        return nums[0] if len(nums) > 0 else np.nan\n",
    "\n",
    "df['salary'] = df['salary'].apply(salary_2_numeric)"
   ]
  },
  {
   "cell_type": "code",
   "execution_count": 20,
   "id": "e60c4374",
   "metadata": {
    "execution": {
     "iopub.execute_input": "2025-04-28T20:49:31.229224Z",
     "iopub.status.busy": "2025-04-28T20:49:31.228898Z",
     "iopub.status.idle": "2025-04-28T20:49:31.236073Z",
     "shell.execute_reply": "2025-04-28T20:49:31.234911Z"
    },
    "papermill": {
     "duration": 0.016027,
     "end_time": "2025-04-28T20:49:31.237450",
     "exception": false,
     "start_time": "2025-04-28T20:49:31.221423",
     "status": "completed"
    },
    "tags": []
   },
   "outputs": [
    {
     "data": {
      "text/plain": [
       "0      8499.5\n",
       "1    142499.5\n",
       "2    197499.5\n",
       "3    224999.5\n",
       "4     35499.5\n",
       "Name: salary, dtype: float64"
      ]
     },
     "execution_count": 20,
     "metadata": {},
     "output_type": "execute_result"
    }
   ],
   "source": [
    "df['salary'].head()"
   ]
  },
  {
   "cell_type": "code",
   "execution_count": 21,
   "id": "d565361d",
   "metadata": {
    "execution": {
     "iopub.execute_input": "2025-04-28T20:49:31.252463Z",
     "iopub.status.busy": "2025-04-28T20:49:31.251571Z",
     "iopub.status.idle": "2025-04-28T20:49:31.256288Z",
     "shell.execute_reply": "2025-04-28T20:49:31.255388Z"
    },
    "papermill": {
     "duration": 0.013626,
     "end_time": "2025-04-28T20:49:31.257820",
     "exception": false,
     "start_time": "2025-04-28T20:49:31.244194",
     "status": "completed"
    },
    "tags": []
   },
   "outputs": [],
   "source": [
    "#maaş kur dönüşümü  -> 28.04.2025 kurlar yuvarlanmıştır\n",
    "\n",
    "exchange_rates = { \n",
    "    '$ - Dolar': 38.0,\n",
    "    '€ - Euro': 44.0,\n",
    "    '£ - Sterlin': 52.0,\n",
    "    '₺ - Türk Lirası': 1.0   \n",
    "}"
   ]
  },
  {
   "cell_type": "code",
   "execution_count": 22,
   "id": "0c6ed7c5",
   "metadata": {
    "execution": {
     "iopub.execute_input": "2025-04-28T20:49:31.272486Z",
     "iopub.status.busy": "2025-04-28T20:49:31.272195Z",
     "iopub.status.idle": "2025-04-28T20:49:31.354144Z",
     "shell.execute_reply": "2025-04-28T20:49:31.353147Z"
    },
    "papermill": {
     "duration": 0.091354,
     "end_time": "2025-04-28T20:49:31.355801",
     "exception": false,
     "start_time": "2025-04-28T20:49:31.264447",
     "status": "completed"
    },
    "tags": []
   },
   "outputs": [
    {
     "name": "stdout",
     "output_type": "stream",
     "text": [
      "    level                            position          tech_stack  experience  \\\n",
      "0  Senior                  Back-end Developer     Php, NodeJS, Go   17.000000   \n",
      "1  Senior                Full Stack Developer       Java, Angular    6.000000   \n",
      "2  Senior  Mobile Application Developer (iOS)  Swift, Objective C    1.000000   \n",
      "3  Senior  Mobile Application Developer (iOS)               Swift    2.666667   \n",
      "4  Middle                Full Stack Developer                 Php    2.000000   \n",
      "\n",
      "  gender    company  company_size work_type       city         currency  \\\n",
      "0  Erkek  E-Ticaret         175.0    Remote  İngiltere        $ - Dolar   \n",
      "1  Erkek    Sigorta         300.0    Remote     Ankara  ₺ - Türk Lirası   \n",
      "2  Erkek      Banka         300.0    Remote      Muğla  ₺ - Türk Lirası   \n",
      "3  Erkek  E-Ticaret         300.0      Ofis   İstanbul  ₺ - Türk Lirası   \n",
      "4  Erkek  E-Ticaret           3.0      Ofis   İstanbul  ₺ - Türk Lirası   \n",
      "\n",
      "     salary  raise_period  \n",
      "0  322981.0             1  \n",
      "1  142499.5             2  \n",
      "2  197499.5             2  \n",
      "3  224999.5             1  \n",
      "4   35499.5             1  \n",
      "count      9026.000000\n",
      "mean     115097.236317\n",
      "std       64686.917214\n",
      "min        1499.500000\n",
      "25%       68499.500000\n",
      "50%      102499.500000\n",
      "75%      147499.500000\n",
      "max      701974.000000\n",
      "Name: salary, dtype: float64\n"
     ]
    }
   ],
   "source": [
    "def convert_2_try(row):\n",
    "    currency_symbol = row['currency']\n",
    "    numeric_salary = row['salary']\n",
    "\n",
    "    if pd.isna(numeric_salary) or currency_symbol not in exchange_rates:\n",
    "        return np.nan\n",
    "\n",
    "    rate = exchange_rates[currency_symbol]\n",
    "    return numeric_salary * rate\n",
    "\n",
    "df['salary'] = df.apply(convert_2_try, axis=1)\n",
    "print(df.head())\n",
    "\n",
    "print(df['salary'].describe())"
   ]
  },
  {
   "cell_type": "code",
   "execution_count": 23,
   "id": "3312555d",
   "metadata": {
    "execution": {
     "iopub.execute_input": "2025-04-28T20:49:31.370286Z",
     "iopub.status.busy": "2025-04-28T20:49:31.370019Z",
     "iopub.status.idle": "2025-04-28T20:49:31.390526Z",
     "shell.execute_reply": "2025-04-28T20:49:31.389449Z"
    },
    "papermill": {
     "duration": 0.02929,
     "end_time": "2025-04-28T20:49:31.391914",
     "exception": false,
     "start_time": "2025-04-28T20:49:31.362624",
     "status": "completed"
    },
    "tags": []
   },
   "outputs": [
    {
     "name": "stdout",
     "output_type": "stream",
     "text": [
      "        experience  company_size         salary  raise_period\n",
      "count  9026.000000   9026.000000    9026.000000   9026.000000\n",
      "mean      4.464399    186.664469  115097.236317      1.538555\n",
      "std       4.347337    124.371247   64686.917214      0.538911\n",
      "min       0.500000      3.000000    1499.500000      1.000000\n",
      "25%       2.000000     35.500000   68499.500000      1.000000\n",
      "50%       2.666667    300.000000  102499.500000      2.000000\n",
      "75%       6.000000    300.000000  147499.500000      2.000000\n",
      "max      17.000000    300.000000  701974.000000      4.000000\n",
      "\n",
      "level           0\n",
      "position        0\n",
      "tech_stack      0\n",
      "experience      0\n",
      "gender          0\n",
      "company         0\n",
      "company_size    0\n",
      "work_type       0\n",
      "city            0\n",
      "currency        0\n",
      "salary          0\n",
      "raise_period    0\n",
      "dtype: int64 \n"
     ]
    }
   ],
   "source": [
    "print(df.describe())\n",
    "#null değer kontrolü\n",
    "print(f\"\\n{df.isnull().sum()} \")"
   ]
  },
  {
   "cell_type": "markdown",
   "id": "4cd617ad",
   "metadata": {
    "papermill": {
     "duration": 0.006283,
     "end_time": "2025-04-28T20:49:31.405050",
     "exception": false,
     "start_time": "2025-04-28T20:49:31.398767",
     "status": "completed"
    },
    "tags": []
   },
   "source": [
    "**Görselleştirme**"
   ]
  },
  {
   "cell_type": "code",
   "execution_count": 24,
   "id": "68897d56",
   "metadata": {
    "execution": {
     "iopub.execute_input": "2025-04-28T20:49:31.418970Z",
     "iopub.status.busy": "2025-04-28T20:49:31.418614Z",
     "iopub.status.idle": "2025-04-28T20:49:31.853455Z",
     "shell.execute_reply": "2025-04-28T20:49:31.852513Z"
    },
    "papermill": {
     "duration": 0.443623,
     "end_time": "2025-04-28T20:49:31.854934",
     "exception": false,
     "start_time": "2025-04-28T20:49:31.411311",
     "status": "completed"
    },
    "tags": []
   },
   "outputs": [
    {
     "name": "stderr",
     "output_type": "stream",
     "text": [
      "/usr/local/lib/python3.11/dist-packages/seaborn/_oldcore.py:1119: FutureWarning: use_inf_as_na option is deprecated and will be removed in a future version. Convert inf values to NaN before operating instead.\n",
      "  with pd.option_context('mode.use_inf_as_na', True):\n"
     ]
    },
    {
     "data": {
      "image/png": "[encoded data removed]",
      "text/plain": [
       "<Figure size 1400x600 with 1 Axes>"
      ]
     },
     "metadata": {},
     "output_type": "display_data"
    }
   ],
   "source": [
    "plt.style.use\n",
    "plt.figure(figsize=(14,6))\n",
    "\n",
    "#Histogram\n",
    "plt.subplot(1,2,1)\n",
    "sns.histplot(df['salary'], kde=True, bins=30)\n",
    "plt.title('Türk Lirası Cinsinden Maaş Dağılımı')\n",
    "plt.xlabel('Aylık Maaş(₺)')\n",
    "plt.ylabel('Kişi Sayısı')\n",
    "\n",
    "plt.show()"
   ]
  }
 ],
 "metadata": {
  "kaggle": {
   "accelerator": "none",
   "dataSources": [
    {
     "datasetId": 7194217,
     "sourceId": 11478513,
     "sourceType": "datasetVersion"
    }
   ],
   "dockerImageVersionId": 31012,
   "isGpuEnabled": false,
   "isInternetEnabled": true,
   "language": "python",
   "sourceType": "notebook"
  },
  "kernelspec": {
   "display_name": "Python 3",
   "language": "python",
   "name": "python3"
  },
  "language_info": {
   "codemirror_mode": {
    "name": "ipython",
    "version": 3
   },
   "file_extension": ".py",
   "mimetype": "text/x-python",
   "name": "python",
   "nbconvert_exporter": "python",
   "pygments_lexer": "ipython3",
   "version": "3.11.11"
  },
  "papermill": {
   "default_parameters": {},
   "duration": 13.069554,
   "end_time": "2025-04-28T20:49:32.582887",
   "environment_variables": {},
   "exception": null,
   "input_path": "__notebook__.ipynb",
   "output_path": "__notebook__.ipynb",
   "parameters": {},
   "start_time": "2025-04-28T20:49:19.513333",
   "version": "2.6.0"
  }
 },
 "nbformat": 4,
 "nbformat_minor": 5
}
